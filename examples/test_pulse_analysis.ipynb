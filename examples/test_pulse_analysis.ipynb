{
 "cells": [
  {
   "cell_type": "code",
   "execution_count": 1,
   "metadata": {},
   "outputs": [],
   "source": [
    "import numpy as np\n",
    "import pandas\n",
    "from neuroanalysis.data import Recording, TSeries\n",
    "from neuroanalysis.test_pulse import PatchClampTestPulse\n",
    "from neuroanalysis.neuronsim.model_cell import ModelCell\n",
    "from neuroanalysis.units import pA, mV, MOhm, pF, us, ms"
   ]
  },
  {
   "cell_type": "code",
   "execution_count": 2,
   "metadata": {},
   "outputs": [],
   "source": [
    "model_cell = ModelCell()"
   ]
  },
  {
   "cell_type": "code",
   "execution_count": 3,
   "metadata": {},
   "outputs": [],
   "source": [
    "\n",
    "\n",
    "def test_test_pulse():\n",
    "    # Just test against a simple R/C circuit attached to a pipette\n",
    "    model_cell.enable_mechs(['leak'])\n",
    "    model_cell.recording_noise = False\n",
    "    \n",
    "    tp = create_test_pulse(pamp=-10*pA, mode='ic', r_access=100*MOhm)    \n",
    "    check_analysis(tp, model_cell)\n",
    "    \n",
    "    \n",
    "    \n",
    "def create_test_pulse(start=5*ms, pdur=10*ms, pamp=-10*pA, mode='ic', dt=10*us, r_access=10*MOhm, noise=5*pA):\n",
    "    # update patch pipette access resistance\n",
    "    model_cell.clamp.ra = r_access\n",
    "    \n",
    "    # update noise amplitude\n",
    "    model_cell.mechs['noise'].stdev = noise\n",
    "    \n",
    "    # make pulse array\n",
    "    duration = start + pdur * 3\n",
    "    pulse = np.zeros(int(duration / dt))\n",
    "    pstart = int(start / dt)\n",
    "    pstop = pstart + int(pdur / dt)\n",
    "    pulse[pstart:pstop] = pamp\n",
    "    \n",
    "    # simulate response\n",
    "    result = model_cell.test(TSeries(pulse, dt), mode)\n",
    "    \n",
    "    # generate a PatchClampTestPulse to test against\n",
    "    tp = PatchClampTestPulse(result)\n",
    "    for ch in tp.channels:\n",
    "        tp[ch].t0 =0\n",
    "\n",
    "    return tp\n",
    "\n",
    "\n",
    "def expected_testpulse_values(cell):\n",
    "    if cell.clamp.mode == 'ic':\n",
    "        values = {\n",
    "            'baseline_potential': model_cell.resting_potential(),\n",
    "            'baseline_current': model_cell.clamp.holding['ic'],\n",
    "            'access_resistance': model_cell.clamp.ra,\n",
    "            'capacitance': model_cell.soma.cap,\n",
    "        }\n",
    "    else:\n",
    "        values = {\n",
    "            'baseline_potential': model_cell.clamp.holding['vc'],\n",
    "            'baseline_current': model_cell.resting_current(),\n",
    "            'access_resistance': model_cell.clamp.ra,\n",
    "            'capacitance': None,\n",
    "        }\n",
    "    values['input_resistance'] = model_cell.input_resistance()\n",
    "\n",
    "    return values\n",
    "\n",
    "\n",
    "def check_analysis(tp, cell):\n",
    "    measured = tp.analysis\n",
    "    expected = expected_testpulse_values(cell)\n",
    "    \n",
    "    # how much error should we tolerate for each parameter?\n",
    "    err_tolerance = {\n",
    "        'baseline_potential': 0.01,\n",
    "        'baseline_current': 0.01,\n",
    "        'access_resistance': 0.3,\n",
    "        'input_resistance': 0.1,\n",
    "        'capacitance': 0.3,\n",
    "    }\n",
    "    \n",
    "    for k,v1 in expected.items():\n",
    "        v2 = measured[k]\n",
    "        if v1 is None:\n",
    "            assert v2 is None\n",
    "            continue\n",
    "        err = abs((v1 - v2) / v2)\n",
    "        if err > err_tolerance[k]:\n",
    "            raise ValueError(\"Test pulse metric out of range: %s = %g != %g\"\n",
    "                \"  (err %g > %g)\" % (k, v2, v1, err, err_tolerance[k]))\n",
    "\n"
   ]
  },
  {
   "cell_type": "code",
   "execution_count": 16,
   "metadata": {},
   "outputs": [
    {
     "ename": "AttributeError",
     "evalue": "'method' object has no attribute 't0'",
     "output_type": "error",
     "traceback": [
      "\u001b[0;31m---------------------------------------------------------------------------\u001b[0m",
      "\u001b[0;31mAttributeError\u001b[0m                            Traceback (most recent call last)",
      "Cell \u001b[0;32mIn[16], line 8\u001b[0m\n\u001b[1;32m      5\u001b[0m model_cell\u001b[38;5;241m.\u001b[39mrecording_noise \u001b[38;5;241m=\u001b[39m \u001b[38;5;28;01mFalse\u001b[39;00m\n\u001b[1;32m      7\u001b[0m tp \u001b[38;5;241m=\u001b[39m create_test_pulse(pamp\u001b[38;5;241m=\u001b[39m\u001b[38;5;241m-\u001b[39m\u001b[38;5;241m10\u001b[39m\u001b[38;5;241m*\u001b[39mpA, mode\u001b[38;5;241m=\u001b[39m\u001b[38;5;124m'\u001b[39m\u001b[38;5;124mic\u001b[39m\u001b[38;5;124m'\u001b[39m, r_access\u001b[38;5;241m=\u001b[39m\u001b[38;5;241m10\u001b[39m\u001b[38;5;241m*\u001b[39mMOhm)\n\u001b[0;32m----> 8\u001b[0m tp\u001b[38;5;241m.\u001b[39mdata\u001b[38;5;241m.\u001b[39mt0 \u001b[38;5;241m=\u001b[39m \u001b[38;5;241m0\u001b[39m\n\u001b[1;32m      9\u001b[0m tp\u001b[38;5;241m.\u001b[39m_analyze()\n\u001b[1;32m     11\u001b[0m name, units \u001b[38;5;241m=\u001b[39m (\u001b[38;5;124m'\u001b[39m\u001b[38;5;124mpipette potential\u001b[39m\u001b[38;5;124m'\u001b[39m, \u001b[38;5;124m'\u001b[39m\u001b[38;5;124mV\u001b[39m\u001b[38;5;124m'\u001b[39m) \u001b[38;5;28;01mif\u001b[39;00m tp\u001b[38;5;241m.\u001b[39mclamp_mode \u001b[38;5;241m==\u001b[39m \u001b[38;5;124m'\u001b[39m\u001b[38;5;124mic\u001b[39m\u001b[38;5;124m'\u001b[39m \u001b[38;5;28;01melse\u001b[39;00m (\u001b[38;5;124m'\u001b[39m\u001b[38;5;124mpipette current\u001b[39m\u001b[38;5;124m'\u001b[39m, \u001b[38;5;124m'\u001b[39m\u001b[38;5;124mA\u001b[39m\u001b[38;5;124m'\u001b[39m)\n",
      "\u001b[0;31mAttributeError\u001b[0m: 'method' object has no attribute 't0'"
     ]
    }
   ],
   "source": [
    "import matplotlib.pyplot as plt\n",
    "\n",
    "# Just test against a simple R/C circuit attached to a pipette\n",
    "model_cell.enable_mechs(['leak'])\n",
    "model_cell.recording_noise = False\n",
    "\n",
    "tp = create_test_pulse(pamp=-10*pA, mode='ic', r_access=10*MOhm)\n",
    "tp.data.t0 = 0\n",
    "tp._analyze()\n",
    "\n",
    "name, units = ('pipette potential', 'V') if tp.clamp_mode == 'ic' else ('pipette current', 'A')\n",
    "\n",
    "fig, axes = plt.subplots(1, 2, figsize=(12, 4))\n",
    "for ax in axes:\n",
    "    ax.plot(tp['primary'].time_values, tp['primary'].data, label='primary')\n",
    "    ax.plot(tp.initial_fit_trace.time_values, tp.initial_fit_trace.data, 'g', label='initial fit')\n",
    "    ax.plot(tp.fit_trace.time_values, tp.fit_trace.data, 'r', label='final fit')\n",
    "    ax.set_xlabel('time (s)')\n",
    "    ax.set_ylabel(name + ' (' + units + ')')\n",
    "    ax.legend()\n",
    "\n",
    "# plot an expanded region near the pulse start\n",
    "pstart = tp['primary'].t0 + tp.stimulus.start_time\n",
    "axes[1].set_xlim(pstart - .1*ms, pstart + .3*ms)\n",
    "axes[1].set_ylim(-.0755, -.0749)\n",
    "\n",
    "\n",
    "# check_analysis(tp, model_cell)\n",
    "\n",
    "# print(\"Vm %g mV    Rm %g MOhm\" % (model_cell.resting_potential()*1000, model_cell.input_resistance()/1e6))\n",
    "\n",
    "# # Have to test VC with very low access resistance\n",
    "# tp = create_test_pulse(pamp=-10*mV, mode='vc', r_access=15*MOhm)\n",
    "# tp.plot()\n",
    "\n",
    "check_analysis(tp, model_cell)\n",
    "print(\"Test passed\")\n",
    "\n",
    "df = pandas.DataFrame()\n",
    "for k,v in expected_testpulse_values(model_cell).items():\n",
    "    df[k] = [v, tp.analysis[k]]\n",
    "# label df rows\n",
    "df.index = ['IC expected', 'IC measured']\n",
    "df\n"
   ]
  },
  {
   "cell_type": "code",
   "execution_count": 7,
   "metadata": {},
   "outputs": [
    {
     "name": "stdout",
     "output_type": "stream",
     "text": [
      "Test passed\n"
     ]
    },
    {
     "name": "stderr",
     "output_type": "stream",
     "text": [
      "/tmp/ipykernel_289874/1591168962.py:72: RuntimeWarning: invalid value encountered in scalar divide\n",
      "  err = abs((v1 - v2) / v2)\n"
     ]
    }
   ],
   "source": [
    "check_analysis(tp, model_cell)\n",
    "print(\"Test passed\")"
   ]
  },
  {
   "cell_type": "code",
   "execution_count": 15,
   "metadata": {},
   "outputs": [
    {
     "name": "stdout",
     "output_type": "stream",
     "text": [
      "(array([-3.86835159e-10,  1.00000000e-05,  9.28483000e+00]), array([[ 1.44843628e-21,  2.85194329e-17, -5.64202959e-26],\n",
      "       [ 2.85194329e-17,  4.71274516e-12, -1.11094692e-21],\n",
      "       [-5.64202959e-26, -1.11094692e-21,  2.19771476e-30]]))\n"
     ]
    },
    {
     "data": {
      "text/html": [
       "<div>\n",
       "<style scoped>\n",
       "    .dataframe tbody tr th:only-of-type {\n",
       "        vertical-align: middle;\n",
       "    }\n",
       "\n",
       "    .dataframe tbody tr th {\n",
       "        vertical-align: top;\n",
       "    }\n",
       "\n",
       "    .dataframe thead th {\n",
       "        text-align: right;\n",
       "    }\n",
       "</style>\n",
       "<table border=\"1\" class=\"dataframe\">\n",
       "  <thead>\n",
       "    <tr style=\"text-align: right;\">\n",
       "      <th></th>\n",
       "      <th>baseline_potential</th>\n",
       "      <th>baseline_current</th>\n",
       "      <th>access_resistance</th>\n",
       "      <th>capacitance</th>\n",
       "      <th>input_resistance</th>\n",
       "    </tr>\n",
       "  </thead>\n",
       "  <tbody>\n",
       "    <tr>\n",
       "      <th>IC expected</th>\n",
       "      <td>-0.075</td>\n",
       "      <td>0.0</td>\n",
       "      <td>1.000000e+07</td>\n",
       "      <td>None</td>\n",
       "      <td>2.000000e+08</td>\n",
       "    </tr>\n",
       "    <tr>\n",
       "      <th>IC measured</th>\n",
       "      <td>-0.075</td>\n",
       "      <td>0.0</td>\n",
       "      <td>2.389905e+07</td>\n",
       "      <td>None</td>\n",
       "      <td>2.100200e+08</td>\n",
       "    </tr>\n",
       "  </tbody>\n",
       "</table>\n",
       "</div>"
      ],
      "text/plain": [
       "             baseline_potential  baseline_current  access_resistance  \\\n",
       "IC expected              -0.075               0.0       1.000000e+07   \n",
       "IC measured              -0.075               0.0       2.389905e+07   \n",
       "\n",
       "            capacitance  input_resistance  \n",
       "IC expected        None      2.000000e+08  \n",
       "IC measured        None      2.100200e+08  "
      ]
     },
     "metadata": {},
     "output_type": "display_data"
    },
    {
     "name": "stderr",
     "output_type": "stream",
     "text": [
      "/tmp/ipykernel_289874/1591168962.py:72: RuntimeWarning: invalid value encountered in scalar divide\n",
      "  err = abs((v1 - v2) / v2)\n"
     ]
    },
    {
     "ename": "ValueError",
     "evalue": "Test pulse metric out of range: access_resistance = 2.38991e+07 != 1e+07  (err 0.581573 > 0.3)",
     "output_type": "error",
     "traceback": [
      "\u001b[0;31m---------------------------------------------------------------------------\u001b[0m",
      "\u001b[0;31mValueError\u001b[0m                                Traceback (most recent call last)",
      "Cell \u001b[0;32mIn[15], line 34\u001b[0m\n\u001b[1;32m     31\u001b[0m df\u001b[38;5;241m.\u001b[39mindex \u001b[38;5;241m=\u001b[39m [\u001b[38;5;124m'\u001b[39m\u001b[38;5;124mIC expected\u001b[39m\u001b[38;5;124m'\u001b[39m, \u001b[38;5;124m'\u001b[39m\u001b[38;5;124mIC measured\u001b[39m\u001b[38;5;124m'\u001b[39m]\n\u001b[1;32m     32\u001b[0m display(df)\n\u001b[0;32m---> 34\u001b[0m check_analysis(tp, model_cell)\n\u001b[1;32m     35\u001b[0m \u001b[38;5;28mprint\u001b[39m(\u001b[38;5;124m\"\u001b[39m\u001b[38;5;124mTest passed\u001b[39m\u001b[38;5;124m\"\u001b[39m)\n",
      "Cell \u001b[0;32mIn[3], line 74\u001b[0m, in \u001b[0;36mcheck_analysis\u001b[0;34m(tp, cell)\u001b[0m\n\u001b[1;32m     72\u001b[0m err \u001b[38;5;241m=\u001b[39m \u001b[38;5;28mabs\u001b[39m((v1 \u001b[38;5;241m-\u001b[39m v2) \u001b[38;5;241m/\u001b[39m v2)\n\u001b[1;32m     73\u001b[0m \u001b[38;5;28;01mif\u001b[39;00m err \u001b[38;5;241m>\u001b[39m err_tolerance[k]:\n\u001b[0;32m---> 74\u001b[0m     \u001b[38;5;28;01mraise\u001b[39;00m \u001b[38;5;167;01mValueError\u001b[39;00m(\u001b[38;5;124m\"\u001b[39m\u001b[38;5;124mTest pulse metric out of range: \u001b[39m\u001b[38;5;132;01m%s\u001b[39;00m\u001b[38;5;124m = \u001b[39m\u001b[38;5;132;01m%g\u001b[39;00m\u001b[38;5;124m != \u001b[39m\u001b[38;5;132;01m%g\u001b[39;00m\u001b[38;5;124m\"\u001b[39m\n\u001b[1;32m     75\u001b[0m         \u001b[38;5;124m\"\u001b[39m\u001b[38;5;124m  (err \u001b[39m\u001b[38;5;132;01m%g\u001b[39;00m\u001b[38;5;124m > \u001b[39m\u001b[38;5;132;01m%g\u001b[39;00m\u001b[38;5;124m)\u001b[39m\u001b[38;5;124m\"\u001b[39m \u001b[38;5;241m%\u001b[39m (k, v2, v1, err, err_tolerance[k]))\n",
      "\u001b[0;31mValueError\u001b[0m: Test pulse metric out of range: access_resistance = 2.38991e+07 != 1e+07  (err 0.581573 > 0.3)"
     ]
    },
    {
     "data": {
      "image/png": "[encoded data removed]",
      "text/plain": [
       "<Figure size 1200x400 with 2 Axes>"
      ]
     },
     "metadata": {},
     "output_type": "display_data"
    }
   ],
   "source": [
    "# Just test against a simple R/C circuit attached to a pipette\n",
    "model_cell.enable_mechs(['leak'])\n",
    "model_cell.recording_noise = False\n",
    "\n",
    "tp = create_test_pulse(pamp=-10*mV, mode='vc', r_access=10*MOhm)\n",
    "tp._analyze()\n",
    "\n",
    "name, units = ('pipette potential', 'V') if tp.clamp_mode == 'ic' else ('pipette current', 'A')\n",
    "\n",
    "fig, axes = plt.subplots(1, 2, figsize=(12, 4))\n",
    "for ax in axes:\n",
    "    ax.plot(tp['primary'].time_values, tp['primary'].data, label='primary')\n",
    "    ax.plot(tp.initial_fit_trace.time_values, tp.initial_fit_trace.data, 'g', label='initial fit')\n",
    "    ax.plot(tp.fit_trace.time_values, tp.fit_trace.data, 'r', label='final fit')\n",
    "    ax.set_xlabel('time (s)')\n",
    "    ax.set_ylabel(name + ' (' + units + ')')\n",
    "    ax.legend()\n",
    "\n",
    "# plot an expanded region near the pulse start\n",
    "pstart = tp['primary'].t0 + tp.stimulus.start_time\n",
    "axes[1].set_xlim(pstart - .1*ms, pstart + .3*ms)\n",
    "rgn = tp['primary'].time_slice(pstart - .1*ms, pstart + .3*ms)\n",
    "mnmax = rgn.data.min(), rgn.data.max()\n",
    "axes[1].set_ylim(mnmax[0] - 0.1*(mnmax[1]-mnmax[0]), mnmax[1] + 0.1*(mnmax[1]-mnmax[0]))\n",
    "\n",
    "\n",
    "df = pandas.DataFrame()\n",
    "for k,v in expected_testpulse_values(model_cell).items():\n",
    "    df[k] = [v, tp.analysis[k]]\n",
    "# label df rows\n",
    "df.index = ['IC expected', 'IC measured']\n",
    "display(df)\n",
    "\n",
    "check_analysis(tp, model_cell)\n",
    "print(\"Test passed\")\n"
   ]
  },
  {
   "cell_type": "code",
   "execution_count": null,
   "metadata": {},
   "outputs": [],
   "source": []
  }
 ],
 "metadata": {
  "kernelspec": {
   "display_name": "neuroanalysis",
   "language": "python",
   "name": "python3"
  },
  "language_info": {
   "codemirror_mode": {
    "name": "ipython",
    "version": 3
   },
   "file_extension": ".py",
   "mimetype": "text/x-python",
   "name": "python",
   "nbconvert_exporter": "python",
   "pygments_lexer": "ipython3",
   "version": "3.11.7"
  }
 },
 "nbformat": 4,
 "nbformat_minor": 2
}
